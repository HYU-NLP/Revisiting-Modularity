{
 "cells": [
  {
   "cell_type": "code",
   "execution_count": 11,
   "metadata": {},
   "outputs": [],
   "source": [
    "# divide existing codes into monolithic and modular codes by certain criteria\n",
    "# (ex, average cc and number of modules used)\n",
    "def divide_into_monolithic_and_modular_codes(dataset, cc_limit=10, min_num_module=3):\n",
    "    from utils.utils import count_module_written\n",
    "    \n",
    "    \n",
    "    new_dataset = []\n",
    "\n",
    "    for data in dataset:\n",
    "        # save basic information\n",
    "        new_data = {}\n",
    "        new_data['problem_name'] = data['name']\n",
    "        new_data['problem_description'] = data['description']\n",
    "        new_data['public_tests'] = data['public_tests']\n",
    "        new_data['private_tests'] = data['private_tests']\n",
    "\n",
    "        passed = data['solutions']['passed']\n",
    "        cc = data['solutions']['cc']\n",
    "        solution = data['solutions']['solution']\n",
    "        module_list = data['solutions']['modules']\n",
    "\n",
    "        assert(len(passed) == len(cc) == len(solution) == len(module_list))\n",
    "\n",
    "        # 1. get monolithic code\n",
    "        monolithic_code_index = []\n",
    "        for i, modules in enumerate(module_list):\n",
    "            # filter solution that does not pass the test case\n",
    "            if not passed[i]:\n",
    "                continue\n",
    "            \n",
    "            if len(modules) == 0 and cc[i] >= cc_limit:\n",
    "                monolithic_code_index.append(i)\n",
    "\n",
    "        # no monolithic code candidate exists\n",
    "        # if len(monolithic_code_index) == 0:\n",
    "            # continue\n",
    "\n",
    "        tmp = {}\n",
    "        tmp['monolithic_code'] = [solution[i] for i in monolithic_code_index]\n",
    "        tmp['monolithic_code_cc'] = [cc[i] for i in monolithic_code_index]\n",
    "        new_data['monolithic_codes'] = tmp\n",
    "        \n",
    "        # 2. get modular code\n",
    "        modular_code_index = []\n",
    "        for i, (code, modules) in enumerate(zip(solution, module_list)):\n",
    "            # filter solution that does not pass the test case\n",
    "            if not passed[i]:\n",
    "                continue\n",
    "            \n",
    "            if len(modules) < min_num_module: continue # at least three modules in the code\n",
    "            module_use_count = [count_module_written(code, module) for module in modules]\n",
    "            if all(count >= 2 for count in module_use_count): # all modules must be used\n",
    "                if cc[i] < cc_limit: # and cc of code must be under 10\n",
    "                    modular_code_index.append(i)\n",
    "        \n",
    "        # no modular code candidate exists\n",
    "        # if len(modular_code_index) == 0:\n",
    "            # continue\n",
    "        \n",
    "        tmp = {}\n",
    "        tmp['modular_code'] = [solution[i] for i in modular_code_index]\n",
    "        tmp['modular_code_cc'] = [cc[i] for i in modular_code_index]\n",
    "        new_data['modular_codes'] = tmp\n",
    "\n",
    "        new_dataset.append(new_data)\n",
    "        \n",
    "        \n",
    "    # 3. remove question without pair data is collected\n",
    "    remove_index = []\n",
    "    for i, data in enumerate(new_dataset):\n",
    "        # at least one monolithic code must exist per problem\n",
    "        # it is okay to have no modular code\n",
    "        if len(data['monolithic_codes']['monolithic_code']) == 0:\n",
    "            remove_index.append(i)\n",
    "    new_dataset = [new_dataset[i] for i in range(len(new_dataset)) if i not in remove_index]\n",
    "\n",
    "        \n",
    "    return new_dataset"
   ]
  },
  {
   "cell_type": "markdown",
   "metadata": {},
   "source": [
    "### load my codecontests dataset and extract problems with both sc and mc codes"
   ]
  },
  {
   "cell_type": "code",
   "execution_count": 1,
   "metadata": {},
   "outputs": [
    {
     "name": "stderr",
     "output_type": "stream",
     "text": [
      "/home/kdy20401/anaconda3/envs/code/lib/python3.9/site-packages/tqdm/auto.py:21: TqdmWarning: IProgress not found. Please update jupyter and ipywidgets. See https://ipywidgets.readthedocs.io/en/stable/user_install.html\n",
      "  from .autonotebook import tqdm as notebook_tqdm\n"
     ]
    }
   ],
   "source": [
    "from utils.utils import read_jsonl_to_dict, write_dict_to_jsonl\n",
    "import os\n",
    "\n",
    "train_dataset = read_jsonl_to_dict(os.path.join(os.getcwd(), 'data', 'my_code_contests_train.jsonl'))\n",
    "\n",
    "_train_dataset = divide_into_monolithic_and_modular_codes(train_dataset)\n",
    "\n",
    "write_dict_to_jsonl(_train_dataset, os.path.join(os.getcwd(), 'data', 'my_code_contests_divided_train.jsonl'))\n"
   ]
  }
 ],
 "metadata": {
  "kernelspec": {
   "display_name": "code",
   "language": "python",
   "name": "python3"
  },
  "language_info": {
   "codemirror_mode": {
    "name": "ipython",
    "version": 3
   },
   "file_extension": ".py",
   "mimetype": "text/x-python",
   "name": "python",
   "nbconvert_exporter": "python",
   "pygments_lexer": "ipython3",
   "version": "3.9.18"
  }
 },
 "nbformat": 4,
 "nbformat_minor": 2
}
