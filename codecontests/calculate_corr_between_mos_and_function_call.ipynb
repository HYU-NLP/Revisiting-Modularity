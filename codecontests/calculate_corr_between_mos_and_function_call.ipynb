{
 "cells": [
  {
   "cell_type": "markdown",
   "metadata": {},
   "source": [
    "## Calculate code properties among 10% of original data and save"
   ]
  },
  {
   "cell_type": "code",
   "execution_count": 1,
   "metadata": {},
   "outputs": [
    {
     "name": "stderr",
     "output_type": "stream",
     "text": [
      "/data/kdy20401/.conda/envs/mc/lib/python3.9/site-packages/tqdm/auto.py:21: TqdmWarning: IProgress not found. Please update jupyter and ipywidgets. See https://ipywidgets.readthedocs.io/en/stable/user_install.html\n",
      "  from .autonotebook import tqdm as notebook_tqdm\n",
      "Map (num_proc=16): 100%|██████████| 126447/126447 [01:02<00:00, 2013.54 examples/s]\n",
      "Filter (num_proc=16): 100%|██████████| 126447/126447 [00:06<00:00, 19519.37 examples/s]\n"
     ]
    }
   ],
   "source": [
    "import os\n",
    "import random\n",
    "from datasets import Dataset\n",
    "from utils.utils import get_code_style_score, get_code_modularity_score, read_jsonl_to_dict, write_dict_to_jsonl\n",
    "\n",
    "\n",
    "def compute_code_score(example):\n",
    "    code = example['code']\n",
    "    try:\n",
    "        score_modularity = get_code_modularity_score(code)\n",
    "    except Exception:\n",
    "        score_modularity = -1.0\n",
    "\n",
    "    example['score_modularity'] = score_modularity\n",
    "    return example\n",
    "\n",
    "\n",
    "def check_code_score(example):\n",
    "    return example['score_modularity'] >= 0\n",
    "\n",
    "\n",
    "dataset = read_jsonl_to_dict(os.path.join(os.getcwd(), 'data', 'my_code_contests_train.jsonl'))\n",
    "demonstration = []\n",
    "\n",
    "# aggregate demonstration code\n",
    "# keys for dataset: dict_keys(['name', 'description', 'public_tests', 'private_tests', 'generated_tests', 'source', 'difficulty', 'solutions', 'incorrect_solutions', 'cf_contest_id', 'cf_index', 'cf_points', 'cf_rating', 'cf_tags', 'is_description_translated', 'untranslated_description', 'time_limit', 'memory_limit_bytes', 'input_file', 'output_file'])\n",
    "# keys for solutions: dict_keys(['cc', 'modules', 'passed', 'solution'])\n",
    "for data in dataset:\n",
    "    for i in range(len(data['solutions']['solution'])):\n",
    "        if data['solutions']['passed'][i]:\n",
    "            demonstration.append(\n",
    "                {\n",
    "                    'description': data['description'],\n",
    "                    'code': data['solutions']['solution'][i],\n",
    "                    # more information?\n",
    "                }\n",
    "            )\n",
    "\n",
    "# calculate MoS\n",
    "random.seed(42)\n",
    "demonstration = random.sample(demonstration, len(demonstration) // 10) # 10% of total data\n",
    "demonstration = Dataset.from_list(demonstration)\n",
    "demonstration = demonstration.map(compute_code_score, num_proc=16)\n",
    "demonstration = demonstration.filter(check_code_score, num_proc=16)\n",
    "\n",
    "# save\n",
    "write_dict_to_jsonl(list(demonstration), os.path.join(os.getcwd(), 'data', 'demonstration_with_new_modularity.jsonl'))"
   ]
  },
  {
   "cell_type": "markdown",
   "metadata": {},
   "source": [
    "## Get 500 demonstrations"
   ]
  },
  {
   "cell_type": "code",
   "execution_count": 19,
   "metadata": {},
   "outputs": [
    {
     "name": "stdout",
     "output_type": "stream",
     "text": [
      "number of codes in demonstration pool: 125659\n"
     ]
    },
    {
     "name": "stderr",
     "output_type": "stream",
     "text": [
      "/tmp/ipykernel_442372/1728575739.py:34: DeprecationWarning: DataFrameGroupBy.apply operated on the grouping columns. This behavior is deprecated, and in a future version of pandas the grouping columns will be excluded from the operation. Either pass `include_groups=False` to exclude the groupings or explicitly select the grouping columns after groupby to silence this warning.\n",
      "  modularity_sampled_points = modularity_df.groupby(['modularity_bin']).apply(lambda x: x.sample(num_sample, replace=True if len(x) < num_sample else False))\n"
     ]
    }
   ],
   "source": [
    "import os\n",
    "import random\n",
    "import numpy as np\n",
    "import pandas as pd\n",
    "import matplotlib.pyplot as plt\n",
    "from utils.utils import read_jsonl_to_dict, write_dict_to_jsonl, get_code_style_score, get_code_modularity_score, get_average_length_of_variables\n",
    "\n",
    "\n",
    "random.seed(27) # for reproducibility\n",
    "num_sample = 10 # number of samples to be sampled from each bin\n",
    "\n",
    "# load demonstration pool\n",
    "file_name = 'demonstration_with_new_modularity'\n",
    "path = f'/data/kdy20401/Workspace/Proj-Code-Generation/MC/data/{file_name}.jsonl'\n",
    "demonstration = read_jsonl_to_dict(path)\n",
    "print(f'number of codes in demonstration pool: {len(demonstration)}')\n",
    "\n",
    "modularity = [] # score_modularity\n",
    "for data in demonstration:\n",
    "    modularity.append(data['score_modularity'])\n",
    "\n",
    "modularity_df = pd.DataFrame({'modularity': np.array(modularity)})\n",
    "\n",
    "# bins: 0~0.1, 0.1~0.2, ..., 0.9~1.0\n",
    "num_bin = 10\n",
    "bins = np.linspace(0, 1, num_bin + 1)\n",
    "\n",
    "# find the grid cell to which each data point belongs\n",
    "# include_lowest=True makes 0 style or modularity value included in the first bin\n",
    "modularity_df['modularity_bin'] = pd.cut(modularity_df['modularity'], bins=bins, labels=False, include_lowest=True)\n",
    "\n",
    "# sample data points from each bin\n",
    "# if the number of data points in the bin is less than num_sample, duplication can occur\n",
    "modularity_sampled_points = modularity_df.groupby(['modularity_bin']).apply(lambda x: x.sample(num_sample, replace=True if len(x) < num_sample else False))\n",
    "\n",
    "# style_sampled_points.index => (style_bin, code_index)\n",
    "# (deduplicated) index of sampled data points \n",
    "modularity_index = list(set([e[1] for e in modularity_sampled_points.index]))\n",
    "\n",
    "#  the number of samples is less than expected\n",
    "# assert len(style_index) == num_bin * num_sample and len(modularity_index) == num_bin * num_sample\n",
    "assert len(modularity_index) == num_bin * num_sample\n",
    "        \n",
    "selected_demonstration_by_modularity = [demonstration[i] for i in modularity_index]\n",
    "\n",
    "# save each demonstration which has high coverage of style or modularity\n",
    "write_dict_to_jsonl(selected_demonstration_by_modularity, os.path.join(os.getcwd(), 'data', 'modularity_demonstration_with_new_modularity.jsonl'))\n",
    "\n",
    "# # for visualization\n",
    "# plt.scatter(modularity_sampled_points['modularity'], np.array([0.5] * len(modularity_sampled_points)), color='red', label='Sampled Data')\n",
    "# plt.xlabel('MoS')\n",
    "# plt.ylabel('temp')\n",
    "# plt.legend()\n",
    "# plt.show()    "
   ]
  },
  {
   "cell_type": "markdown",
   "metadata": {},
   "source": [
    "## calculate corr between mos and function calls"
   ]
  },
  {
   "cell_type": "code",
   "execution_count": 1,
   "metadata": {},
   "outputs": [],
   "source": [
    "from utils.utils import count_num_module_calls\n",
    "\n",
    "base_directory = os.getcwd()\n",
    "\n",
    "demonstration_dataset = read_jsonl_to_dict(\n",
    "    \n",
    "    os.path.join(\n",
    "        base_directory,\n",
    "        \"data\",\n",
    "        'modularity_demonstration_with_new_modularity.jsonl',\n",
    "    )  \n",
    ")\n",
    "\n",
    "import matplotlib.pyplot as plt\n",
    "from scipy import stats\n",
    "\n",
    "mos, function_call = [], []\n",
    "for data in demonstration_dataset:\n",
    "    mos.append(data['score_modularity'])\n",
    "    function_call.append(count_num_module_calls(data['code']))\n",
    "    \n",
    "pearsonr_stat = stats.pearsonr(mos, function_call)\n",
    "pearsonr, pearsonr_p = pearsonr_stat.correlation, pearsonr_stat.pvalue\n",
    "spearmanr_stat = stats.spearmanr(mos, function_call)\n",
    "spearmanr, spearmanr_p = spearmanr_stat.correlation, spearmanr_stat.pvalue\n",
    "\n",
    "plt.scatter(mos, function_call, color='red', label='Sampled Data')\n",
    "plt.xlabel('MoS')\n",
    "plt.ylabel('number of function calls')\n",
    "plt.legend()\n",
    "plt.show()\n",
    "\n",
    "print(f'pearsonr: {round(pearsonr, 2)}, pearsonr_p: {round(pearsonr_p, 2)}')\n",
    "print(f'spearmanr: {round(spearmanr, 2)}, spearmanr_p: {round(spearmanr_p, 2)}')"
   ]
  }
 ],
 "metadata": {
  "kernelspec": {
   "display_name": "mc",
   "language": "python",
   "name": "python3"
  },
  "language_info": {
   "codemirror_mode": {
    "name": "ipython",
    "version": 3
   },
   "file_extension": ".py",
   "mimetype": "text/x-python",
   "name": "python",
   "nbconvert_exporter": "python",
   "pygments_lexer": "ipython3",
   "version": "3.9.19"
  }
 },
 "nbformat": 4,
 "nbformat_minor": 2
}
